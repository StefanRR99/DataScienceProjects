{
  "cells": [
    {
      "cell_type": "markdown",
      "metadata": {
        "id": "Zod1aAl-EQxb"
      },
      "source": [
        "\n",
        "# Circuitos Cuánticos con Qiskit\n"
      ]
    },
    {
      "cell_type": "code",
      "execution_count": 2,
      "metadata": {
        "id": "JKCTbJ_Lfje5"
      },
      "outputs": [],
      "source": [
        "# %%capture\n",
        "# %matplotlib inline\n",
        "import numpy as np\n",
        "from qiskit import Aer, QuantumCircuit, execute, assemble, QuantumRegister, ClassicalRegister\n",
        "from qiskit.quantum_info import Statevector\n",
        "from qiskit.providers.aer import QasmSimulator\n",
        "from qiskit_ibm_runtime import QiskitRuntimeService, Session, Sampler, Options\n",
        "from IPython.display import display, Math, Latex\n",
        "import math"
      ]
    },
    {
      "cell_type": "markdown",
      "metadata": {
        "id": "19M5a_KwBChW"
      },
      "source": [
        "## Qiskit\n",
        "Se trata de una librería open-source para desarrollo cuántico. Para conocer más información se recomienda visitar la [documentación](https://qiskit.org/documentation/index.html), además de los [tutoriales](https://qiskit.org/documentation/tutorials.html) y el [libro de texto](https://qiskit.org/textbook/preface.html), en el cual se incluyen tanto conceptos prácticos como las bases teóricas."
      ]
    },
    {
      "cell_type": "markdown",
      "metadata": {
        "id": "qJA0wG3oGKyg"
      },
      "source": [
        "### Ejemplo 1: Circuito con una puerta X (NOT)\n",
        "Este circuito implementa lo equivalente a un NOT clásico."
      ]
    },
    {
      "cell_type": "code",
      "execution_count": null,
      "metadata": {
        "colab": {
          "base_uri": "https://localhost:8080/",
          "height": 107
        },
        "id": "n5fW_DWiGJhR",
        "outputId": "209fdf2e-7895-415f-b650-f76d01ae5212"
      },
      "outputs": [
        {
          "name": "stdout",
          "output_type": "stream",
          "text": [
            "   ┌───┐\n",
            "q: ┤ X ├\n",
            "   └───┘\n",
            "{'1': 1.0}\n"
          ]
        },
        {
          "data": {
            "text/latex": [
              "$$ |1\\rangle$$"
            ],
            "text/plain": [
              "<IPython.core.display.Latex object>"
            ]
          },
          "execution_count": 5,
          "metadata": {},
          "output_type": "execute_result"
        }
      ],
      "source": [
        "# Set the intial state of the simulator to the ground state using from_int\n",
        "state = Statevector.from_int(0, 2) # |0>\n",
        "\n",
        "# Create circuit with a X (NOT) gate\n",
        "qc = QuantumCircuit(1) # takes 1 qubit\n",
        "qc.x(0) # apply X to qubit 0\n",
        "\n",
        "# Print the circuit\n",
        "print(qc) # qc.draw('mlp') outside Colab to get nicer circuits\n",
        "\n",
        "# Evolve the state by the quantum circuit\n",
        "state = state.evolve(qc)\n",
        "\n",
        "# Obtain probabilities\n",
        "print(state.probabilities_dict())\n",
        "\n",
        "# Print state in Latex style\n",
        "state.draw('latex')"
      ]
    },
    {
      "cell_type": "markdown",
      "metadata": {
        "id": "LDvRfbv5_sQr"
      },
      "source": [
        "### Ejemplo 2: Circuito con una puerta H (Hadamard)\n",
        "En este circuito definimos un qubit en estado de superposición con probabilidad del 50% para cada estado utilizando la puerta Hadamard."
      ]
    },
    {
      "cell_type": "code",
      "execution_count": null,
      "metadata": {
        "colab": {
          "base_uri": "https://localhost:8080/",
          "height": 110
        },
        "id": "3VvVriIolqBs",
        "outputId": "3d7c4c37-7cc4-4468-d28f-74c67da1c640"
      },
      "outputs": [
        {
          "name": "stdout",
          "output_type": "stream",
          "text": [
            "   ┌───┐\n",
            "q: ┤ H ├\n",
            "   └───┘\n",
            "{'0': 0.4999999999999999, '1': 0.4999999999999999}\n"
          ]
        },
        {
          "data": {
            "text/latex": [
              "$$\\frac{\\sqrt{2}}{2} |0\\rangle+\\frac{\\sqrt{2}}{2} |1\\rangle$$"
            ],
            "text/plain": [
              "<IPython.core.display.Latex object>"
            ]
          },
          "execution_count": 6,
          "metadata": {},
          "output_type": "execute_result"
        }
      ],
      "source": [
        "# Set the intial state of the simulator to the ground state using from_int\n",
        "state = Statevector.from_int(0, 2) # |0>\n",
        "\n",
        "# Create circuit with a Hadamard gate (superposition of qubit)\n",
        "qc = QuantumCircuit(1) # takes 1 qubit\n",
        "qc.h(0) # apply H to qubit 0\n",
        "\n",
        "# Print the circuit\n",
        "print(qc) # qc.draw('mlp') outside Colab to get nicer circuits\n",
        "\n",
        "# Evolve the state by the quantum circuit\n",
        "state = state.evolve(qc)\n",
        "\n",
        "# Obtain probabilities\n",
        "print(state.probabilities_dict())\n",
        "\n",
        "# Print state in Latex style\n",
        "state.draw('latex')"
      ]
    },
    {
      "cell_type": "markdown",
      "metadata": {
        "id": "KqtstbRAAAqi"
      },
      "source": [
        "### Ejemplo 3: Circuito con puerta controlada\n",
        "En este ejemplo podemos ver como utilizar un bit como control de otra, concretamente para una puerta X, es decir, una puerta CNOT clásica. Se puede utilizar también para el resto de puertas cuánticas poniendo una 'c' delante (ver [documentación](https://qiskit.org/documentation/stubs/qiskit.circuit.library.CXGate.html))."
      ]
    },
    {
      "cell_type": "code",
      "execution_count": null,
      "metadata": {
        "colab": {
          "base_uri": "https://localhost:8080/",
          "height": 141
        },
        "id": "Asv57gia7FF6",
        "outputId": "ea830a5a-58c4-4a6a-e575-c720353314a5"
      },
      "outputs": [
        {
          "name": "stdout",
          "output_type": "stream",
          "text": [
            "     ┌───┐\n",
            "q_0: ┤ X ├\n",
            "     └─┬─┘\n",
            "q_1: ──■──\n",
            "          \n",
            "{'11': 1.0}\n"
          ]
        },
        {
          "data": {
            "text/latex": [
              "$$ |11\\rangle$$"
            ],
            "text/plain": [
              "<IPython.core.display.Latex object>"
            ]
          },
          "execution_count": 7,
          "metadata": {},
          "output_type": "execute_result"
        }
      ],
      "source": [
        "# Set the intial state of the simulator to the ground state using from_int\n",
        "state = Statevector.from_int(2, 2**2) # |10>\n",
        "\n",
        "# Create circuit with a CNOT gate\n",
        "qc = QuantumCircuit(2) # takes 2 qubits\n",
        "# Apply controlled gate: note that qiskit uses little endian notation, a higher index implies more relevance\n",
        "qc.cnot(1,0) # also qx()\n",
        "\n",
        "# Print the circuit\n",
        "print(qc) # qc.draw('mlp') outside Colab to get nicer circuits\n",
        "\n",
        "# Evolve the state by the quantum circuit\n",
        "state = state.evolve(qc)\n",
        "\n",
        "# Obtain probabilities\n",
        "print(state.probabilities_dict())\n",
        "\n",
        "# Print state in Latex style\n",
        "state.draw('latex')"
      ]
    },
    {
      "cell_type": "markdown",
      "metadata": {
        "id": "--yieFm3GSfp"
      },
      "source": [
        "## Ejercicios\n",
        "Resuelve los siguientes ejercicios completando únicamente los trozos de código indicados, **sin modificar** el código proporcionado.\n",
        "\n",
        "Además de las puertas vistas en los ejemplos se pueden encontrar otras muchas puertas en la documentación de Qiskit además de poder hacer combinaciones de las mismas para por ejemplo utilizar más de un bit de control. Algunos de estos casos se encuentran estandarizados como la [puerta Toffoli](https://qiskit.org/documentation/stubs/qiskit.circuit.library.CCXGate.html), que puede ser de utilidad en alguno de los ejercicios."
      ]
    },
    {
      "cell_type": "markdown",
      "metadata": {
        "id": "AMQwUU24BaFs"
      },
      "source": [
        "### Ejercicio 1\n",
        "El entrelazamiento (entanglement) es cuando dos o más qubits tienen propiedades unidas. Por ejemplo en el estado $|00\\rangle + |11\\rangle$, el valor del segundo qubit viene determinado por el valor del primero.\n",
        "En caso de no estar entrelazados el estado sería $|00\\rangle + |01\\rangle + |10\\rangle + |11\\rangle$\n",
        "\n",
        "Completa el código a continuación para que la salida de los dos qubits quede entrelazada. Estado esperado: $\\frac{\\sqrt2}{2}|00\\rangle + \\frac{\\sqrt2}{2}|11\\rangle$"
      ]
    },
    {
      "cell_type": "code",
      "execution_count": 4,
      "metadata": {
        "colab": {
          "base_uri": "https://localhost:8080/",
          "height": 145
        },
        "id": "iroU5GVKBjH8",
        "outputId": "c688cbeb-7c83-4704-a497-f33390942d13"
      },
      "outputs": [
        {
          "name": "stdout",
          "output_type": "stream",
          "text": [
            "     ┌───┐     \n",
            "q_0: ┤ H ├──■──\n",
            "     └───┘┌─┴─┐\n",
            "q_1: ─────┤ X ├\n",
            "          └───┘\n",
            "{'00': 0.4999999999999999, '11': 0.4999999999999999}\n"
          ]
        },
        {
          "data": {
            "text/latex": [
              "$$\\frac{\\sqrt{2}}{2} |00\\rangle+\\frac{\\sqrt{2}}{2} |11\\rangle$$"
            ],
            "text/plain": [
              "<IPython.core.display.Latex object>"
            ]
          },
          "execution_count": 4,
          "metadata": {},
          "output_type": "execute_result"
        }
      ],
      "source": [
        "state = Statevector.from_int(0, 2**2)\n",
        "qc = QuantumCircuit(2)\n",
        "\n",
        "## |00>\n",
        "#========================\n",
        "\n",
        "qc.h(0)\n",
        "qc.cx(0, 1)\n",
        "\n",
        "#========================\n",
        "state = state.evolve(qc)\n",
        "print(qc)\n",
        "print(state.probabilities_dict())\n",
        "state.draw('latex')"
      ]
    },
    {
      "cell_type": "markdown",
      "metadata": {
        "id": "zqBNcD49BmRs"
      },
      "source": [
        "### Ejercicio 2\n",
        "A partir del código proporcionado crea el equivalente a una puerta AND de tal forma que Q0 = Q1 AND Q2.\n",
        "\n",
        "Estado esperado: $\\sqrt(0.25)|000\\rangle + \\sqrt(0.25)|010\\rangle + \\sqrt(0.25)|100\\rangle + \\sqrt(0.25)|111\\rangle$"
      ]
    },
    {
      "cell_type": "code",
      "execution_count": 5,
      "metadata": {
        "colab": {
          "base_uri": "https://localhost:8080/",
          "height": 177
        },
        "id": "bH3hcCvCBpwW",
        "outputId": "6ac8e2d8-27ce-42c4-c76c-5b683ed9033d"
      },
      "outputs": [
        {
          "name": "stdout",
          "output_type": "stream",
          "text": [
            "          ┌───┐\n",
            "q_0: ─────┤ X ├\n",
            "     ┌───┐└─┬─┘\n",
            "q_1: ┤ H ├──■──\n",
            "     ├───┤  │  \n",
            "q_2: ┤ H ├──■──\n",
            "     └───┘     \n",
            "{'000': 0.2499999999999999, '010': 0.2499999999999999, '100': 0.2499999999999999, '111': 0.2499999999999999}\n"
          ]
        },
        {
          "data": {
            "text/latex": [
              "$$\\frac{1}{2} |000\\rangle+\\frac{1}{2} |010\\rangle+\\frac{1}{2} |100\\rangle+\\frac{1}{2} |111\\rangle$$"
            ],
            "text/plain": [
              "<IPython.core.display.Latex object>"
            ]
          },
          "execution_count": 5,
          "metadata": {},
          "output_type": "execute_result"
        }
      ],
      "source": [
        "state = Statevector.from_int(0, 2**3)\n",
        "qc = QuantumCircuit(3)\n",
        "qc.h(1)\n",
        "qc.h(2)\n",
        "#========================\n",
        "\n",
        "qc.ccx(1, 2, 0)\n",
        "\n",
        "#========================\n",
        "state = state.evolve(qc)\n",
        "print(qc)\n",
        "print(state.probabilities_dict())\n",
        "state.draw('latex')"
      ]
    },
    {
      "cell_type": "markdown",
      "metadata": {
        "id": "mCG9BaBABqBK"
      },
      "source": [
        "### Ejercicio 3\n",
        "A partir del código proporcionado crea el equivalente a una puerta OR de tal forma que Q0 = Q1 OR Q2.\n",
        "\n",
        "Estado esperado: $\\sqrt(0.25)|000\\rangle + \\sqrt(0.25)|011\\rangle + \\sqrt(0.25)|101\\rangle + \\sqrt(0.25)|111\\rangle$"
      ]
    },
    {
      "cell_type": "code",
      "execution_count": 7,
      "metadata": {
        "colab": {
          "base_uri": "https://localhost:8080/",
          "height": 266
        },
        "id": "LF3IZQVRBthV",
        "outputId": "6de4c386-537d-49a1-be4a-a59e0f5523d0"
      },
      "outputs": [
        {
          "name": "stdout",
          "output_type": "stream",
          "text": [
            "          ┌───┐┌───┐┌───┐\n",
            "q_0: ─────┤ X ├┤ X ├┤ X ├\n",
            "     ┌───┐└─┬─┘└─┬─┘└─┬─┘\n",
            "q_1: ┤ H ├──■────┼────■──\n",
            "     ├───┤       │    │  \n",
            "q_2: ┤ H ├───────■────■──\n",
            "     └───┘               \n",
            "{'000': 0.2499999999999999, '011': 0.2499999999999999, '101': 0.2499999999999999, '111': 0.2499999999999999}\n"
          ]
        },
        {
          "name": "stderr",
          "output_type": "stream",
          "text": [
            "<ipython-input-7-14cb17d90299>:7: DeprecationWarning: The method ``qiskit.circuit.quantumcircuit.QuantumCircuit.cnot()`` is deprecated as of qiskit 0.45.0. It will be removed no earlier than 3 months after the release date. Use QuantumCircuit.cx as direct replacement.\n",
            "  qc.cnot(1, 0)\n",
            "<ipython-input-7-14cb17d90299>:8: DeprecationWarning: The method ``qiskit.circuit.quantumcircuit.QuantumCircuit.cnot()`` is deprecated as of qiskit 0.45.0. It will be removed no earlier than 3 months after the release date. Use QuantumCircuit.cx as direct replacement.\n",
            "  qc.cnot(2, 0)\n"
          ]
        },
        {
          "data": {
            "text/latex": [
              "$$\\frac{1}{2} |000\\rangle+\\frac{1}{2} |011\\rangle+\\frac{1}{2} |101\\rangle+\\frac{1}{2} |111\\rangle$$"
            ],
            "text/plain": [
              "<IPython.core.display.Latex object>"
            ]
          },
          "execution_count": 7,
          "metadata": {},
          "output_type": "execute_result"
        }
      ],
      "source": [
        "state = Statevector.from_int(0, 2**3)\n",
        "qc = QuantumCircuit(3)\n",
        "qc.h(1)\n",
        "qc.h(2)\n",
        "#========================\n",
        "\n",
        "qc.cnot(1, 0)\n",
        "qc.cnot(2, 0)\n",
        "qc.ccx(1, 2, 0)\n",
        "\n",
        "#========================\n",
        "state = state.evolve(qc)\n",
        "print(qc)\n",
        "print(state.probabilities_dict())\n",
        "state.draw('latex')"
      ]
    },
    {
      "cell_type": "markdown",
      "metadata": {
        "id": "iH57ntI_BjW6"
      },
      "source": [
        "### Ejercicio 4\n",
        "A partir del estado proporcionado $Ψ = |00\\rangle + |11\\rangle$ utiliza las puertas necesarias para obtener el estado $|00\\rangle$ con probabilidad 100%."
      ]
    },
    {
      "cell_type": "code",
      "execution_count": 8,
      "metadata": {
        "colab": {
          "base_uri": "https://localhost:8080/",
          "height": 196
        },
        "id": "lJKy60aDBt7P",
        "outputId": "34285017-70a3-43d8-ada5-96845e32e100"
      },
      "outputs": [
        {
          "name": "stdout",
          "output_type": "stream",
          "text": [
            "          ┌───┐\n",
            "q_0: ──■──┤ H ├\n",
            "     ┌─┴─┐└───┘\n",
            "q_1: ┤ X ├─────\n",
            "     └───┘     \n",
            "{'00': '1.00'}\n"
          ]
        },
        {
          "name": "stderr",
          "output_type": "stream",
          "text": [
            "<ipython-input-8-331bfcf34c3d>:5: DeprecationWarning: The method ``qiskit.circuit.quantumcircuit.QuantumCircuit.cnot()`` is deprecated as of qiskit 0.45.0. It will be removed no earlier than 3 months after the release date. Use QuantumCircuit.cx as direct replacement.\n",
            "  qc.cnot(0, 1)\n"
          ]
        },
        {
          "data": {
            "text/latex": [
              "$$ |00\\rangle$$"
            ],
            "text/plain": [
              "<IPython.core.display.Latex object>"
            ]
          },
          "execution_count": 8,
          "metadata": {},
          "output_type": "execute_result"
        }
      ],
      "source": [
        "state = Statevector([1/math.sqrt(2)+0.j,0.+0.j, 0.+0.j,1/math.sqrt(2)+0.j])\n",
        "qc = QuantumCircuit(2)\n",
        "#========================\n",
        "\n",
        "qc.cnot(0, 1)\n",
        "qc.h(0)\n",
        "\n",
        "#========================\n",
        "state = state.evolve(qc)\n",
        "print(qc)\n",
        "print( {key: f'{value:.2f}' for key, value in state.probabilities_dict().items() if value > 0.01}) # Ajustar resultado debido a imprecisiones con decimales\n",
        "state.draw('latex')"
      ]
    },
    {
      "cell_type": "markdown",
      "metadata": {
        "id": "6aFc2w8ly4wt"
      },
      "source": [
        "### Ejercicio 5\n",
        "El qubit 0 tiene 20% de probabilidad de $|0\\rangle$ y 80% de $|1\\rangle$ y el qubit 1 tiene 100% de probabilidad de $|0\\rangle$\n",
        "\n",
        "Intercambialos para obtener $\\sqrt(0.2)|00\\rangle + \\sqrt(0.8)|01\\rangle$\n",
        "\n"
      ]
    },
    {
      "cell_type": "code",
      "execution_count": 9,
      "metadata": {
        "colab": {
          "base_uri": "https://localhost:8080/",
          "height": 234
        },
        "id": "M7YFklURy4VM",
        "outputId": "2795b9a0-bf06-4d34-ccbc-d15b8b939977"
      },
      "outputs": [
        {
          "name": "stdout",
          "output_type": "stream",
          "text": [
            "     ┌───┐     \n",
            "q_0: ┤ X ├──■──\n",
            "     └─┬─┘┌─┴─┐\n",
            "q_1: ──■──┤ X ├\n",
            "          └───┘\n",
            "{'00': '0.20', '01': '0.80'}\n"
          ]
        },
        {
          "name": "stderr",
          "output_type": "stream",
          "text": [
            "<ipython-input-9-978f30752bb5>:6: DeprecationWarning: The method ``qiskit.circuit.quantumcircuit.QuantumCircuit.cnot()`` is deprecated as of qiskit 0.45.0. It will be removed no earlier than 3 months after the release date. Use QuantumCircuit.cx as direct replacement.\n",
            "  qc.cnot(1, 0)\n",
            "<ipython-input-9-978f30752bb5>:7: DeprecationWarning: The method ``qiskit.circuit.quantumcircuit.QuantumCircuit.cnot()`` is deprecated as of qiskit 0.45.0. It will be removed no earlier than 3 months after the release date. Use QuantumCircuit.cx as direct replacement.\n",
            "  qc.cnot(0, 1)\n"
          ]
        },
        {
          "data": {
            "text/latex": [
              "$$\\frac{\\sqrt{5}}{5} |00\\rangle+\\frac{2 \\sqrt{5}}{5} |01\\rangle$$"
            ],
            "text/plain": [
              "<IPython.core.display.Latex object>"
            ]
          },
          "execution_count": 9,
          "metadata": {},
          "output_type": "execute_result"
        }
      ],
      "source": [
        "# Aplicar las amplitudes dadas a los estados |00> y |10>\n",
        "state = Statevector([math.sqrt(0.2), 0, math.sqrt(0.8), 0])\n",
        "qc = QuantumCircuit(2)\n",
        "#========================\n",
        "\n",
        "qc.cnot(1, 0)\n",
        "qc.cnot(0, 1)\n",
        "\n",
        "#========================\n",
        "state = state.evolve(qc)\n",
        "print(qc)\n",
        "print( {key: f'{value:.2f}' for key, value in state.probabilities_dict().items() if value > 0.01}) # Ajustar resultado debido a imprecisiones con decimales\n",
        "state.draw('latex')"
      ]
    },
    {
      "cell_type": "markdown",
      "metadata": {
        "id": "qutEKZoNXhLj"
      },
      "source": [
        "### Ejercicio 6\n",
        "A partir del estado proporcionado $Ψ = \\sqrt(0.2)|00\\rangle + \\sqrt(0.4)|10\\rangle + \\sqrt(0.4)|11\\rangle$ utiliza las puertas necesarias para obtener el estado $\\sqrt(0.2)|00\\rangle + \\sqrt(0.8)|11\\rangle$"
      ]
    },
    {
      "cell_type": "code",
      "execution_count": 10,
      "metadata": {
        "colab": {
          "base_uri": "https://localhost:8080/",
          "height": 199
        },
        "id": "YiJZEBCgXg2L",
        "outputId": "f448b977-6400-458a-8666-a7b1453f35d8"
      },
      "outputs": [
        {
          "name": "stdout",
          "output_type": "stream",
          "text": [
            "     ┌───┐┌───┐\n",
            "q_0: ┤ H ├┤ X ├\n",
            "     └─┬─┘└─┬─┘\n",
            "q_1: ──■────■──\n",
            "               \n",
            "{'00': '0.20', '11': '0.80'}\n"
          ]
        },
        {
          "name": "stderr",
          "output_type": "stream",
          "text": [
            "<ipython-input-10-545962038d36>:6: DeprecationWarning: The method ``qiskit.circuit.quantumcircuit.QuantumCircuit.cnot()`` is deprecated as of qiskit 0.45.0. It will be removed no earlier than 3 months after the release date. Use QuantumCircuit.cx as direct replacement.\n",
            "  qc.cnot(1, 0)  # Aplicar puerta Pauli-X (NOT) en el segundo qubit\n"
          ]
        },
        {
          "data": {
            "text/latex": [
              "$$\\frac{\\sqrt{5}}{5} |00\\rangle+\\frac{2 \\sqrt{5}}{5} |11\\rangle$$"
            ],
            "text/plain": [
              "<IPython.core.display.Latex object>"
            ]
          },
          "execution_count": 10,
          "metadata": {},
          "output_type": "execute_result"
        }
      ],
      "source": [
        "state = Statevector([math.sqrt(0.2), 0, math.sqrt(0.4), math.sqrt(0.4)])\n",
        "qc = QuantumCircuit(2)\n",
        "#========================\n",
        "\n",
        "qc.ch(1, 0)\n",
        "qc.cnot(1, 0)\n",
        "\n",
        "#========================\n",
        "state = state.evolve(qc)\n",
        "print(qc)\n",
        "print( {key: f'{value:.2f}' for key, value in state.probabilities_dict().items() if value > 0.01}) # Ajustar resultado debido a imprecisiones con decimales\n",
        "state.draw('latex')"
      ]
    },
    {
      "cell_type": "markdown",
      "metadata": {
        "id": "rWGKk-Kxjzj8"
      },
      "source": [
        "### Ejercicio 7\n",
        "A partir del estado proporcionado $|10⟩$ utiliza las puertas necesarias para obtener el estado $|11\\rangle$ sin modificar las puertas Hadamard controladas al inicio y al final del circuito."
      ]
    },
    {
      "cell_type": "code",
      "execution_count": 11,
      "metadata": {
        "colab": {
          "base_uri": "https://localhost:8080/",
          "height": 231
        },
        "id": "7ThE3bJhjz2M",
        "outputId": "9cd48391-9557-48dd-c9ce-eae208bfda09"
      },
      "outputs": [
        {
          "name": "stdout",
          "output_type": "stream",
          "text": [
            "          ┌───┐     ┌───┐┌───┐\n",
            "q_0: ──■──┤ X ├──■──┤ Z ├┤ H ├\n",
            "     ┌─┴─┐└─┬─┘┌─┴─┐└───┘└─┬─┘\n",
            "q_1: ┤ H ├──■──┤ X ├───────■──\n",
            "     └───┘     └───┘          \n",
            "{'11': '1.00'}\n"
          ]
        },
        {
          "name": "stderr",
          "output_type": "stream",
          "text": [
            "<ipython-input-11-088f9cbf6ae1>:6: DeprecationWarning: The method ``qiskit.circuit.quantumcircuit.QuantumCircuit.cnot()`` is deprecated as of qiskit 0.45.0. It will be removed no earlier than 3 months after the release date. Use QuantumCircuit.cx as direct replacement.\n",
            "  qc.cnot(1, 0)\n",
            "<ipython-input-11-088f9cbf6ae1>:7: DeprecationWarning: The method ``qiskit.circuit.quantumcircuit.QuantumCircuit.cnot()`` is deprecated as of qiskit 0.45.0. It will be removed no earlier than 3 months after the release date. Use QuantumCircuit.cx as direct replacement.\n",
            "  qc.cnot(0, 1)\n"
          ]
        },
        {
          "data": {
            "text/latex": [
              "$$ |11\\rangle$$"
            ],
            "text/plain": [
              "<IPython.core.display.Latex object>"
            ]
          },
          "execution_count": 11,
          "metadata": {},
          "output_type": "execute_result"
        }
      ],
      "source": [
        "state = Statevector([0,1,0,0])\n",
        "qc = QuantumCircuit(2)\n",
        "qc.ch(0,1)\n",
        "#========================\n",
        "\n",
        "qc.cnot(1, 0)\n",
        "qc.cnot(0, 1)\n",
        "qc.z(0)\n",
        "\n",
        "#========================\n",
        "qc.ch(1,0)\n",
        "state = state.evolve(qc)\n",
        "print(qc)\n",
        "print( {key: f'{value:.2f}' for key, value in state.probabilities_dict().items() if value > 0.01}) # Ajustar resultado debido a imprecisiones con decimales\n",
        "state.draw('latex')"
      ]
    },
    {
      "cell_type": "markdown",
      "metadata": {
        "id": "njGbclmWj3YT"
      },
      "source": [
        "### Ejercicio 8\n",
        "Dado el estado $\\Psi = \\sqrt(0.1)|00\\rangle + \\sqrt(0.2)|01\\rangle + \\sqrt(0.3)|10\\rangle + \\sqrt(0.4)|11\\rangle$\n",
        "\n",
        "Intercambia la probabilidad de obtener $|01\\rangle$ y $|10\\rangle$"
      ]
    },
    {
      "cell_type": "code",
      "execution_count": 12,
      "metadata": {
        "colab": {
          "base_uri": "https://localhost:8080/",
          "height": 269
        },
        "id": "GY_957RTj4BE",
        "outputId": "faee4b06-f0f7-40ab-dc79-03cb3059d19a"
      },
      "outputs": [
        {
          "name": "stdout",
          "output_type": "stream",
          "text": [
            "          ┌───┐     \n",
            "q_0: ──■──┤ X ├──■──\n",
            "     ┌─┴─┐└─┬─┘┌─┴─┐\n",
            "q_1: ┤ X ├──■──┤ X ├\n",
            "     └───┘     └───┘\n",
            "{'00': '0.10', '01': '0.30', '10': '0.20', '11': '0.40'}\n"
          ]
        },
        {
          "name": "stderr",
          "output_type": "stream",
          "text": [
            "<ipython-input-12-a4fe95ce951b>:5: DeprecationWarning: The method ``qiskit.circuit.quantumcircuit.QuantumCircuit.cnot()`` is deprecated as of qiskit 0.45.0. It will be removed no earlier than 3 months after the release date. Use QuantumCircuit.cx as direct replacement.\n",
            "  qc.cnot(0, 1)\n",
            "<ipython-input-12-a4fe95ce951b>:6: DeprecationWarning: The method ``qiskit.circuit.quantumcircuit.QuantumCircuit.cnot()`` is deprecated as of qiskit 0.45.0. It will be removed no earlier than 3 months after the release date. Use QuantumCircuit.cx as direct replacement.\n",
            "  qc.cnot(1, 0)\n",
            "<ipython-input-12-a4fe95ce951b>:7: DeprecationWarning: The method ``qiskit.circuit.quantumcircuit.QuantumCircuit.cnot()`` is deprecated as of qiskit 0.45.0. It will be removed no earlier than 3 months after the release date. Use QuantumCircuit.cx as direct replacement.\n",
            "  qc.cnot(0, 1)\n"
          ]
        },
        {
          "data": {
            "text/latex": [
              "$$\\frac{\\sqrt{10}}{10} |00\\rangle+\\frac{\\sqrt{30}}{10} |01\\rangle+\\frac{\\sqrt{5}}{5} |10\\rangle+\\frac{\\sqrt{10}}{5} |11\\rangle$$"
            ],
            "text/plain": [
              "<IPython.core.display.Latex object>"
            ]
          },
          "execution_count": 12,
          "metadata": {},
          "output_type": "execute_result"
        }
      ],
      "source": [
        "state = Statevector([math.sqrt(0.1),math.sqrt(0.2),math.sqrt(0.3),math.sqrt(0.4)])\n",
        "qc = QuantumCircuit(2)\n",
        "#========================\n",
        "\n",
        "qc.cnot(0, 1)\n",
        "qc.cnot(1, 0)\n",
        "qc.cnot(0, 1)\n",
        "\n",
        "#========================\n",
        "state = state.evolve(qc)\n",
        "print(qc)\n",
        "print( {key: f'{value:.2f}' for key, value in state.probabilities_dict().items() if value > 0.01}) # Ajustar resultado debido a imprecisiones con decimales\n",
        "state.draw('latex')"
      ]
    }
  ],
  "metadata": {
    "colab": {
      "collapsed_sections": [
        "fJYpfV2AWSST"
      ],
      "provenance": []
    },
    "kernelspec": {
      "display_name": "Python 3",
      "name": "python3"
    },
    "language_info": {
      "name": "python"
    }
  },
  "nbformat": 4,
  "nbformat_minor": 0
}
