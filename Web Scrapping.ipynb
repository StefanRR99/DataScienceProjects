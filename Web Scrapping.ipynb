{
 "cells": [
  {
   "cell_type": "markdown",
   "metadata": {
    "id": "oOijfy1AUdNV"
   },
   "source": [
    "# WEB SCRAPING\n",
    "\n",
    "Para esta práctica, vamos a acceder a los datos de energía solar generados en la instalación eléctrica Mercat del Carmel en Barcelona, de la página pvpoutput.org:\n",
    "\n",
    "https://pvoutput.org/list.jsp?sid=34434\n",
    "\n",
    "**COMPROBAR QUE EN LA VISUALIZACIÓN DE LA PÁGINA SE OBSERVAN ÚNICA Y EXCLUSIVAMENTE LOS DATOS ENTRE 18-11-18 Y 17-12/18**\n",
    "\n",
    "La tarea consiste en scrappear la página, y guardar los datos en un dataframe de:\n",
    "* Fecha (Date)\n",
    "* Energía generada (Generated)\n",
    "* Eficiencia (Efficiency)\n",
    "* Condiciones (Conditions)\n",
    "\n",
    "Los datos de energía generada y eficiencia deben de ser guardados como números. Para ellos, sumar los 2 valores de energía y eficiencia y ver que se obtiene un resultado numérico.\n",
    "\n",
    "Guarda el dataframe en un fichero con el nombre \"Parte2_ejercicio1.csv\".\n",
    "\n",
    "PISTA: Los datos de la página, están guardados dentro una tabla. Seguro que existe una manera fácil en BeatifulSoup para seleccionar los datos que conforman la tabla\n"
   ]
  },
  {
   "cell_type": "code",
   "execution_count": 1,
   "metadata": {
    "id": "3E1wsENfYCHw"
   },
   "outputs": [],
   "source": [
    "#Libreria para aplicar funciones reges\n",
    "import re\n",
    "#Libreria para obtener el html de una url\n",
    "from urllib.request import urlopen\n",
    "#Libreria para webscrapping\n",
    "from bs4 import BeautifulSoup\n",
    "import pandas as pd"
   ]
  },
  {
   "cell_type": "code",
   "execution_count": 2,
   "metadata": {
    "id": "RLeBstjXgCzP"
   },
   "outputs": [],
   "source": [
    "# Lo primero que deberiamos hacer, es acceder a la información de la págia mediante Web Scrapping\n",
    "\n",
    "enlace = \"https://pvoutput.org/list.jsp?sid=34434\"\n",
    "\n",
    "html = urlopen(enlace).read()\n",
    "\n",
    "soup = BeautifulSoup(html, 'html.parser')"
   ]
  },
  {
   "cell_type": "code",
   "execution_count": 3,
   "metadata": {
    "id": "BEFa08mX4eTs"
   },
   "outputs": [],
   "source": [
    "# Guardamos los datos que necesitamos en una variable\n",
    "#PISTA: Los datos que buscamos estan en una tabla\n",
    "\n",
    "#Al inspeccionar la pagina me doy cuenta de que es la segunda tabla de la pagina, la primera es la de target.\n",
    "tabla = soup.find_all('table')[1]"
   ]
  },
  {
   "cell_type": "code",
   "execution_count": 4,
   "metadata": {},
   "outputs": [
    {
     "name": "stdout",
     "output_type": "stream",
     "text": [
      "<table class=\"table-data\" id=\"tb\"><tr><td colspan=\"7\"><b class=\"large\">Ona Solar Mercat del Carmel <a class=\"system1\" href=\"display.jsp?sid=34434\" title=\"Ona Solar Mercat del Carmel 43.740kW|Panels: 243x180W STM 180F&lt;br/&gt;Inverter: FRONIUS IG 60 ADV&lt;br/&gt;Location: &lt;img src='images/c/es.png'&gt; Spain&lt;br/&gt;Orientation: South 0.0°&lt;br/&gt;Array Tilt: 35.0°&lt;br/&gt;Shade: Low\">43.740kW</a></b></td><td align=\"right\" colspan=\"5\" nowrap=\"\"><label style=\"padding-right:3px; font-size: 1.10em;\">Compare:</label><input id=\"query\" name=\"sid\" style=\"width: 180px\" type=\"text\"/> <a class=\"shelp\" href=\"#\" title=\"Search Tips|&lt;b&gt;15km&lt;/b&gt; - systems 15km from this system&lt;br/&gt;&lt;b&gt;2200 5km&lt;/b&gt; - 5km from postcode 2200&lt;br/&gt;&lt;b&gt;30&lt;/b&gt; - postcodes or system sizes starting with '30'&lt;br/&gt;&lt;b&gt;abc&lt;/b&gt; - system names containing 'abc'&lt;br/&gt;&lt;b&gt;sharp panel&lt;/b&gt; - systems with sharp panels&lt;br/&gt;&lt;b&gt;xan inverter&lt;/b&gt; - systems with xantrex inverters&lt;br/&gt;&lt;b&gt;sydney team&lt;/b&gt; - teams containing 'sydney'&lt;br/&gt;&lt;b&gt;7 days&lt;/b&gt; - compare with outputs a week ago&lt;br/&gt;&lt;b&gt;favourite&lt;/b&gt; - all your favourites&lt;br/&gt;&lt;b&gt;4.9 +N&lt;/b&gt; - 4900W to 4999W systems facing North&lt;br/&gt;&lt;b&gt;suntech panel +sma inverter&lt;/b&gt; - systems with suntech panels and sma inverters\">Tips</a> </td></tr><tr><th><div style=\"margin-top:2px;margin-bottom:1px\">Date<font class=\"table-arrow\">▼</font></div></th><th nowrap=\"\">Generated</th><th nowrap=\"\">Efficiency</th><th>Exported</th><th nowrap=\"\">Peak Power</th><th nowrap=\"\">Peak Time</th><th>Conditions</th><th>Temperature</th><th nowrap=\"\"><div style=\"width: 230px\">Comments</div></th></tr><tr class=\"e2\"><td align=\"center\" nowrap=\"\" style=\"padding-right:15px\"><div><a href=\"intraday.jsp?id=37639&amp;sid=34434&amp;dt=20181217\">17/12/18</a></div></td><td align=\"right\" nowrap=\"\" style=\"padding-right:25px\" title=\"Exported: None\">0.000kWh</td><td align=\"right\" nowrap=\"\" style=\"padding-right:25px\">0.000kWh/kW</td><td align=\"right\" nowrap=\"\" style=\"padding-right:20px\"><center>-</center></td><td align=\"right\" nowrap=\"\" style=\"padding-right:35px\">0.000kW</td><td align=\"center\">12:00AM</td><td nowrap=\"\">Not Sure</td><td align=\"right\" style=\"padding-right:1px\"><center>-</center></td><td nowrap=\"\" style=\"font-size:0.9em\">Updated 00:00 UTC+1:00</td></tr><tr class=\"o2\"><td align=\"center\" nowrap=\"\" style=\"padding-right:15px\"><div><a href=\"intraday.jsp?id=37639&amp;sid=34434&amp;dt=20181216\">16/12/18</a></div></td><td align=\"right\" nowrap=\"\" style=\"padding-right:25px\" title=\"Exported: None\">23.290kWh</td><td align=\"right\" nowrap=\"\" style=\"padding-right:25px\">0.532kWh/kW</td><td align=\"right\" nowrap=\"\" style=\"padding-right:20px\"><center>-</center></td><td align=\"right\" nowrap=\"\" style=\"padding-right:35px\">6.455kW</td><td align=\"center\">10:30AM</td><td nowrap=\"\">Showers</td><td align=\"right\" style=\"padding-right:1px\"><center>-</center></td><td nowrap=\"\" style=\"font-size:0.9em\">Updated 23:45 UTC+1:00</td></tr><tr class=\"e2\"><td align=\"center\" nowrap=\"\" style=\"padding-right:15px\"><div><a href=\"intraday.jsp?id=37639&amp;sid=34434&amp;dt=20181215\">15/12/18</a></div></td><td align=\"right\" nowrap=\"\" style=\"padding-right:25px\" title=\"Exported: None\">102.201kWh</td><td align=\"right\" nowrap=\"\" style=\"padding-right:25px\">2.337kWh/kW</td><td align=\"right\" nowrap=\"\" style=\"padding-right:20px\"><center>-</center></td><td align=\"right\" nowrap=\"\" style=\"padding-right:35px\">23.249kW</td><td align=\"center\">12:30PM</td><td nowrap=\"\">Partly Cloudy</td><td align=\"right\" style=\"padding-right:1px\"><center>-</center></td><td nowrap=\"\" style=\"font-size:0.9em\">Updated 23:45 UTC+1:00</td></tr><tr class=\"o2\"><td align=\"center\" nowrap=\"\" style=\"padding-right:15px\"><div><a href=\"intraday.jsp?id=37639&amp;sid=34434&amp;dt=20181214\">14/12/18</a></div></td><td align=\"right\" nowrap=\"\" style=\"padding-right:25px\" title=\"Exported: None\">49.354kWh</td><td align=\"right\" nowrap=\"\" style=\"padding-right:25px\">1.128kWh/kW</td><td align=\"right\" nowrap=\"\" style=\"padding-right:20px\"><center>-</center></td><td align=\"right\" nowrap=\"\" style=\"padding-right:35px\">22.548kW</td><td align=\"center\">12:00PM</td><td nowrap=\"\">Cloudy</td><td align=\"right\" style=\"padding-right:1px\"><center>-</center></td><td nowrap=\"\" style=\"font-size:0.9em\">Updated 23:45 UTC+1:00</td></tr><tr class=\"e2\"><td align=\"center\" nowrap=\"\" style=\"padding-right:15px\"><div><a href=\"intraday.jsp?id=37639&amp;sid=34434&amp;dt=20181213\">13/12/18</a></div></td><td align=\"right\" nowrap=\"\" style=\"padding-right:25px\" title=\"Exported: None\">10.052kWh</td><td align=\"right\" nowrap=\"\" style=\"padding-right:25px\">0.230kWh/kW</td><td align=\"right\" nowrap=\"\" style=\"padding-right:20px\"><center>-</center></td><td align=\"right\" nowrap=\"\" style=\"padding-right:35px\">2.245kW</td><td align=\"center\">1:30PM</td><td nowrap=\"\">Showers</td><td align=\"right\" style=\"padding-right:1px\"><center>-</center></td><td nowrap=\"\" style=\"font-size:0.9em\">Updated 23:45 UTC+1:00</td></tr><tr class=\"o2\"><td align=\"center\" nowrap=\"\" style=\"padding-right:15px\"><div><a href=\"intraday.jsp?id=37639&amp;sid=34434&amp;dt=20181212\">12/12/18</a></div></td><td align=\"right\" nowrap=\"\" style=\"padding-right:25px\" title=\"Exported: None\">66.718kWh</td><td align=\"right\" nowrap=\"\" style=\"padding-right:25px\">1.525kWh/kW</td><td align=\"right\" nowrap=\"\" style=\"padding-right:20px\"><center>-</center></td><td align=\"right\" nowrap=\"\" style=\"padding-right:35px\">18.517kW</td><td align=\"center\">1:45PM</td><td nowrap=\"\">Mostly Cloudy</td><td align=\"right\" style=\"padding-right:1px\"><center>-</center></td><td nowrap=\"\" style=\"font-size:0.9em\">Updated 23:45 UTC+1:00</td></tr><tr class=\"e2\"><td align=\"center\" nowrap=\"\" style=\"padding-right:15px\"><div><a href=\"intraday.jsp?id=37639&amp;sid=34434&amp;dt=20181211\">11/12/18</a></div></td><td align=\"right\" nowrap=\"\" style=\"padding-right:25px\" title=\"Exported: None\">104.514kWh</td><td align=\"right\" nowrap=\"\" style=\"padding-right:25px\">2.389kWh/kW</td><td align=\"right\" nowrap=\"\" style=\"padding-right:20px\"><center>-</center></td><td align=\"right\" nowrap=\"\" style=\"padding-right:35px\">21.026kW</td><td align=\"center\">2:00PM</td><td nowrap=\"\">Partly Cloudy</td><td align=\"right\" style=\"padding-right:1px\"><center>-</center></td><td nowrap=\"\" style=\"font-size:0.9em\">Updated 23:45 UTC+1:00</td></tr><tr class=\"o2\"><td align=\"center\" nowrap=\"\" style=\"padding-right:15px\"><div><a href=\"intraday.jsp?id=37639&amp;sid=34434&amp;dt=20181210\">10/12/18</a></div></td><td align=\"right\" nowrap=\"\" style=\"padding-right:25px\" title=\"Exported: None\">93.795kWh</td><td align=\"right\" nowrap=\"\" style=\"padding-right:25px\">2.144kWh/kW</td><td align=\"right\" nowrap=\"\" style=\"padding-right:20px\"><center>-</center></td><td align=\"right\" nowrap=\"\" style=\"padding-right:35px\">23.668kW</td><td align=\"center\">12:30PM</td><td nowrap=\"\">Partly Cloudy</td><td align=\"right\" style=\"padding-right:1px\"><center>-</center></td><td nowrap=\"\" style=\"font-size:0.9em\">Updated 23:45 UTC+1:00</td></tr><tr class=\"e2\"><td align=\"center\" nowrap=\"\" style=\"padding-right:15px\"><div><a href=\"intraday.jsp?id=37639&amp;sid=34434&amp;dt=20181209\">09/12/18</a></div></td><td align=\"right\" nowrap=\"\" style=\"padding-right:25px\" title=\"Exported: None\">113.725kWh</td><td align=\"right\" nowrap=\"\" style=\"padding-right:25px\">2.600kWh/kW</td><td align=\"right\" nowrap=\"\" style=\"padding-right:20px\"><center>-</center></td><td align=\"right\" nowrap=\"\" style=\"padding-right:35px\">23.529kW</td><td align=\"center\">12:15PM</td><td nowrap=\"\">Fine</td><td align=\"right\" style=\"padding-right:1px\"><center>-</center></td><td nowrap=\"\" style=\"font-size:0.9em\">Updated 23:45 UTC+1:00</td></tr><tr class=\"o2\"><td align=\"center\" nowrap=\"\" style=\"padding-right:15px\"><div><a href=\"intraday.jsp?id=37639&amp;sid=34434&amp;dt=20181208\">08/12/18</a></div></td><td align=\"right\" nowrap=\"\" style=\"padding-right:25px\" title=\"Exported: None\">78.448kWh</td><td align=\"right\" nowrap=\"\" style=\"padding-right:25px\">1.794kWh/kW</td><td align=\"right\" nowrap=\"\" style=\"padding-right:20px\"><center>-</center></td><td align=\"right\" nowrap=\"\" style=\"padding-right:35px\">20.193kW</td><td align=\"center\">1:45PM</td><td nowrap=\"\">Partly Cloudy</td><td align=\"right\" style=\"padding-right:1px\"><center>-</center></td><td nowrap=\"\" style=\"font-size:0.9em\">Updated 23:45 UTC+1:00</td></tr><tr class=\"e2\"><td align=\"center\" nowrap=\"\" style=\"padding-right:15px\"><div><a href=\"intraday.jsp?id=37639&amp;sid=34434&amp;dt=20181207\">07/12/18</a></div></td><td align=\"right\" nowrap=\"\" style=\"padding-right:25px\" title=\"Exported: None\">118.060kWh</td><td align=\"right\" nowrap=\"\" style=\"padding-right:25px\">2.699kWh/kW</td><td align=\"right\" nowrap=\"\" style=\"padding-right:20px\"><center>-</center></td><td align=\"right\" nowrap=\"\" style=\"padding-right:35px\">24.364kW</td><td align=\"center\">1:45PM</td><td nowrap=\"\">Fine</td><td align=\"right\" style=\"padding-right:1px\"><center>-</center></td><td nowrap=\"\" style=\"font-size:0.9em\">Updated 23:45 UTC+1:00</td></tr><tr class=\"o2\"><td align=\"center\" nowrap=\"\" style=\"padding-right:15px\"><div><a href=\"intraday.jsp?id=37639&amp;sid=34434&amp;dt=20181206\">06/12/18</a></div></td><td align=\"right\" nowrap=\"\" style=\"padding-right:25px\" title=\"Exported: None\">114.691kWh</td><td align=\"right\" nowrap=\"\" style=\"padding-right:25px\">2.622kWh/kW</td><td align=\"right\" nowrap=\"\" style=\"padding-right:20px\"><center>-</center></td><td align=\"right\" nowrap=\"\" style=\"padding-right:35px\">23.927kW</td><td align=\"center\">2:00PM</td><td nowrap=\"\">Fine</td><td align=\"right\" style=\"padding-right:1px\"><center>-</center></td><td nowrap=\"\" style=\"font-size:0.9em\">Updated 23:45 UTC+1:00</td></tr><tr class=\"e2\"><td align=\"center\" nowrap=\"\" style=\"padding-right:15px\"><div><a href=\"intraday.jsp?id=37639&amp;sid=34434&amp;dt=20181205\">05/12/18</a></div></td><td align=\"right\" nowrap=\"\" style=\"padding-right:25px\" title=\"Exported: None\">111.368kWh</td><td align=\"right\" nowrap=\"\" style=\"padding-right:25px\">2.546kWh/kW</td><td align=\"right\" nowrap=\"\" style=\"padding-right:20px\"><center>-</center></td><td align=\"right\" nowrap=\"\" style=\"padding-right:35px\">23.014kW</td><td align=\"center\">1:45PM</td><td nowrap=\"\">Partly Cloudy</td><td align=\"right\" style=\"padding-right:1px\"><center>-</center></td><td nowrap=\"\" style=\"font-size:0.9em\">Updated 23:45 UTC+1:00</td></tr><tr class=\"o2\"><td align=\"center\" nowrap=\"\" style=\"padding-right:15px\"><div><a href=\"intraday.jsp?id=37639&amp;sid=34434&amp;dt=20181204\">04/12/18</a></div></td><td align=\"right\" nowrap=\"\" style=\"padding-right:25px\" title=\"Exported: None\">115.125kWh</td><td align=\"right\" nowrap=\"\" style=\"padding-right:25px\">2.632kWh/kW</td><td align=\"right\" nowrap=\"\" style=\"padding-right:20px\"><center>-</center></td><td align=\"right\" nowrap=\"\" style=\"padding-right:35px\">23.813kW</td><td align=\"center\">11:30AM</td><td nowrap=\"\">Fine</td><td align=\"right\" style=\"padding-right:1px\"><center>-</center></td><td nowrap=\"\" style=\"font-size:0.9em\">Updated 23:45 UTC+1:00</td></tr><tr class=\"e2\"><td align=\"center\" nowrap=\"\" style=\"padding-right:15px\"><div><a href=\"intraday.jsp?id=37639&amp;sid=34434&amp;dt=20181203\">03/12/18</a></div></td><td align=\"right\" nowrap=\"\" style=\"padding-right:25px\" title=\"Exported: None\">75.057kWh</td><td align=\"right\" nowrap=\"\" style=\"padding-right:25px\">1.716kWh/kW</td><td align=\"right\" nowrap=\"\" style=\"padding-right:20px\"><center>-</center></td><td align=\"right\" nowrap=\"\" style=\"padding-right:35px\">18.082kW</td><td align=\"center\">2:15PM</td><td nowrap=\"\">Mostly Cloudy</td><td align=\"right\" style=\"padding-right:1px\"><center>-</center></td><td nowrap=\"\" style=\"font-size:0.9em\">Updated 23:45 UTC+1:00</td></tr><tr class=\"o2\"><td align=\"center\" nowrap=\"\" style=\"padding-right:15px\"><div><a href=\"intraday.jsp?id=37639&amp;sid=34434&amp;dt=20181202\">02/12/18</a></div></td><td align=\"right\" nowrap=\"\" style=\"padding-right:25px\" title=\"Exported: None\">118.966kWh</td><td align=\"right\" nowrap=\"\" style=\"padding-right:25px\">2.720kWh/kW</td><td align=\"right\" nowrap=\"\" style=\"padding-right:20px\"><center>-</center></td><td align=\"right\" nowrap=\"\" style=\"padding-right:35px\">24.461kW</td><td align=\"center\">1:45PM</td><td nowrap=\"\">Fine</td><td align=\"right\" style=\"padding-right:1px\"><center>-</center></td><td nowrap=\"\" style=\"font-size:0.9em\">Updated 23:45 UTC+1:00</td></tr><tr class=\"e2\"><td align=\"center\" nowrap=\"\" style=\"padding-right:15px\"><div><a href=\"intraday.jsp?id=37639&amp;sid=34434&amp;dt=20181201\">01/12/18</a></div></td><td align=\"right\" nowrap=\"\" style=\"padding-right:25px\" title=\"Exported: None\">91.670kWh</td><td align=\"right\" nowrap=\"\" style=\"padding-right:25px\">2.096kWh/kW</td><td align=\"right\" nowrap=\"\" style=\"padding-right:20px\"><center>-</center></td><td align=\"right\" nowrap=\"\" style=\"padding-right:35px\">22.978kW</td><td align=\"center\">12:45PM</td><td nowrap=\"\">Partly Cloudy</td><td align=\"right\" style=\"padding-right:1px\"><center>-</center></td><td nowrap=\"\" style=\"font-size:0.9em\">Updated 23:45 UTC+1:00</td></tr><tr class=\"o2\"><td align=\"center\" nowrap=\"\" style=\"padding-right:15px\"><div><a href=\"intraday.jsp?id=37639&amp;sid=34434&amp;dt=20181130\">30/11/18</a></div></td><td align=\"right\" nowrap=\"\" style=\"padding-right:25px\" title=\"Exported: None\">68.678kWh</td><td align=\"right\" nowrap=\"\" style=\"padding-right:25px\">1.570kWh/kW</td><td align=\"right\" nowrap=\"\" style=\"padding-right:20px\"><center>-</center></td><td align=\"right\" nowrap=\"\" style=\"padding-right:35px\">25.047kW</td><td align=\"center\">11:30AM</td><td nowrap=\"\">Mostly Cloudy</td><td align=\"right\" style=\"padding-right:1px\"><center>-</center></td><td nowrap=\"\" style=\"font-size:0.9em\">Updated 23:45 UTC+1:00</td></tr><tr class=\"e2\"><td align=\"center\" nowrap=\"\" style=\"padding-right:15px\"><div><a href=\"intraday.jsp?id=37639&amp;sid=34434&amp;dt=20181129\">29/11/18</a></div></td><td align=\"right\" nowrap=\"\" style=\"padding-right:25px\" title=\"Exported: None\">74.923kWh</td><td align=\"right\" nowrap=\"\" style=\"padding-right:25px\">1.713kWh/kW</td><td align=\"right\" nowrap=\"\" style=\"padding-right:20px\"><center>-</center></td><td align=\"right\" nowrap=\"\" style=\"padding-right:35px\">17.403kW</td><td align=\"center\">1:00PM</td><td nowrap=\"\">Mostly Cloudy</td><td align=\"right\" style=\"padding-right:1px\"><center>-</center></td><td nowrap=\"\" style=\"font-size:0.9em\">Updated 23:45 UTC+1:00</td></tr><tr class=\"o2\"><td align=\"center\" nowrap=\"\" style=\"padding-right:15px\"><div><a href=\"intraday.jsp?id=37639&amp;sid=34434&amp;dt=20181128\">28/11/18</a></div></td><td align=\"right\" nowrap=\"\" style=\"padding-right:25px\" title=\"Exported: None\">118.962kWh</td><td align=\"right\" nowrap=\"\" style=\"padding-right:25px\">2.720kWh/kW</td><td align=\"right\" nowrap=\"\" style=\"padding-right:20px\"><center>-</center></td><td align=\"right\" nowrap=\"\" style=\"padding-right:35px\">26.060kW</td><td align=\"center\">1:45PM</td><td nowrap=\"\">Partly Cloudy</td><td align=\"right\" style=\"padding-right:1px\"><center>-</center></td><td nowrap=\"\" style=\"font-size:0.9em\">Updated 23:45 UTC+1:00</td></tr><tr class=\"e2\"><td align=\"center\" nowrap=\"\" style=\"padding-right:15px\"><div><a href=\"intraday.jsp?id=37639&amp;sid=34434&amp;dt=20181127\">27/11/18</a></div></td><td align=\"right\" nowrap=\"\" style=\"padding-right:25px\" title=\"Exported: None\">138.964kWh</td><td align=\"right\" nowrap=\"\" style=\"padding-right:25px\">3.177kWh/kW</td><td align=\"right\" nowrap=\"\" style=\"padding-right:20px\"><center>-</center></td><td align=\"right\" nowrap=\"\" style=\"padding-right:35px\">27.573kW</td><td align=\"center\">1:45PM</td><td nowrap=\"\">Fine</td><td align=\"right\" style=\"padding-right:1px\"><center>-</center></td><td nowrap=\"\" style=\"font-size:0.9em\">Updated 23:45 UTC+1:00</td></tr><tr class=\"o2\"><td align=\"center\" nowrap=\"\" style=\"padding-right:15px\"><div><a href=\"intraday.jsp?id=37639&amp;sid=34434&amp;dt=20181126\">26/11/18</a></div></td><td align=\"right\" nowrap=\"\" style=\"padding-right:25px\" title=\"Exported: None\">71.042kWh</td><td align=\"right\" nowrap=\"\" style=\"padding-right:25px\">1.624kWh/kW</td><td align=\"right\" nowrap=\"\" style=\"padding-right:20px\"><center>-</center></td><td align=\"right\" nowrap=\"\" style=\"padding-right:35px\">28.219kW</td><td align=\"center\">1:45PM</td><td nowrap=\"\">Mostly Cloudy</td><td align=\"right\" style=\"padding-right:1px\"><center>-</center></td><td nowrap=\"\" style=\"font-size:0.9em\">Updated 23:45 UTC+1:00</td></tr><tr class=\"e2\"><td align=\"center\" nowrap=\"\" style=\"padding-right:15px\"><div><a href=\"intraday.jsp?id=37639&amp;sid=34434&amp;dt=20181125\">25/11/18</a></div></td><td align=\"right\" nowrap=\"\" style=\"padding-right:25px\" title=\"Exported: None\">52.910kWh</td><td align=\"right\" nowrap=\"\" style=\"padding-right:25px\">1.210kWh/kW</td><td align=\"right\" nowrap=\"\" style=\"padding-right:20px\"><center>-</center></td><td align=\"right\" nowrap=\"\" style=\"padding-right:35px\">23.390kW</td><td align=\"center\">2:00PM</td><td nowrap=\"\">Cloudy</td><td align=\"right\" style=\"padding-right:1px\"><center>-</center></td><td nowrap=\"\" style=\"font-size:0.9em\">Updated 23:45 UTC+1:00</td></tr><tr class=\"o2\"><td align=\"center\" nowrap=\"\" style=\"padding-right:15px\"><div><a href=\"intraday.jsp?id=37639&amp;sid=34434&amp;dt=20181124\">24/11/18</a></div></td><td align=\"right\" nowrap=\"\" style=\"padding-right:25px\" title=\"Exported: None\">143.884kWh</td><td align=\"right\" nowrap=\"\" style=\"padding-right:25px\">3.290kWh/kW</td><td align=\"right\" nowrap=\"\" style=\"padding-right:20px\"><center>-</center></td><td align=\"right\" nowrap=\"\" style=\"padding-right:35px\">27.339kW</td><td align=\"center\">2:00PM</td><td nowrap=\"\">Fine</td><td align=\"right\" style=\"padding-right:1px\"><center>-</center></td><td nowrap=\"\" style=\"font-size:0.9em\">Updated 23:45 UTC+1:00</td></tr><tr class=\"e2\"><td align=\"center\" nowrap=\"\" style=\"padding-right:15px\"><div><a href=\"intraday.jsp?id=37639&amp;sid=34434&amp;dt=20181123\">23/11/18</a></div></td><td align=\"right\" nowrap=\"\" style=\"padding-right:25px\" title=\"Exported: None\">14.313kWh</td><td align=\"right\" nowrap=\"\" style=\"padding-right:25px\">0.327kWh/kW</td><td align=\"right\" nowrap=\"\" style=\"padding-right:20px\"><center>-</center></td><td align=\"right\" nowrap=\"\" style=\"padding-right:35px\">3.953kW</td><td align=\"center\">1:00PM</td><td nowrap=\"\">Showers</td><td align=\"right\" style=\"padding-right:1px\"><center>-</center></td><td nowrap=\"\" style=\"font-size:0.9em\">Updated 23:45 UTC+1:00</td></tr><tr class=\"o2\"><td align=\"center\" nowrap=\"\" style=\"padding-right:15px\"><div><a href=\"intraday.jsp?id=37639&amp;sid=34434&amp;dt=20181122\">22/11/18</a></div></td><td align=\"right\" nowrap=\"\" style=\"padding-right:25px\" title=\"Exported: None\">75.768kWh</td><td align=\"right\" nowrap=\"\" style=\"padding-right:25px\">1.732kWh/kW</td><td align=\"right\" nowrap=\"\" style=\"padding-right:20px\"><center>-</center></td><td align=\"right\" nowrap=\"\" style=\"padding-right:35px\">23.296kW</td><td align=\"center\">12:00PM</td><td nowrap=\"\">Mostly Cloudy</td><td align=\"right\" style=\"padding-right:1px\"><center>-</center></td><td nowrap=\"\" style=\"font-size:0.9em\">Updated 23:45 UTC+1:00</td></tr><tr class=\"e2\"><td align=\"center\" nowrap=\"\" style=\"padding-right:15px\"><div><a href=\"intraday.jsp?id=37639&amp;sid=34434&amp;dt=20181121\">21/11/18</a></div></td><td align=\"right\" nowrap=\"\" style=\"padding-right:25px\" title=\"Exported: None\">123.206kWh</td><td align=\"right\" nowrap=\"\" style=\"padding-right:25px\">2.817kWh/kW</td><td align=\"right\" nowrap=\"\" style=\"padding-right:20px\"><center>-</center></td><td align=\"right\" nowrap=\"\" style=\"padding-right:35px\">27.212kW</td><td align=\"center\">1:45PM</td><td nowrap=\"\">Fine</td><td align=\"right\" style=\"padding-right:1px\"><center>-</center></td><td nowrap=\"\" style=\"font-size:0.9em\">Updated 23:45 UTC+1:00</td></tr><tr class=\"o2\"><td align=\"center\" nowrap=\"\" style=\"padding-right:15px\"><div><a href=\"intraday.jsp?id=37639&amp;sid=34434&amp;dt=20181120\">20/11/18</a></div></td><td align=\"right\" nowrap=\"\" style=\"padding-right:25px\" title=\"Exported: None\">51.082kWh</td><td align=\"right\" nowrap=\"\" style=\"padding-right:25px\">1.168kWh/kW</td><td align=\"right\" nowrap=\"\" style=\"padding-right:20px\"><center>-</center></td><td align=\"right\" nowrap=\"\" style=\"padding-right:35px\">17.382kW</td><td align=\"center\">10:45AM</td><td nowrap=\"\">Cloudy</td><td align=\"right\" style=\"padding-right:1px\"><center>-</center></td><td nowrap=\"\" style=\"font-size:0.9em\">Updated 23:45 UTC+1:00</td></tr><tr class=\"e2\"><td align=\"center\" nowrap=\"\" style=\"padding-right:15px\"><div><a href=\"intraday.jsp?id=37639&amp;sid=34434&amp;dt=20181119\">19/11/18</a></div></td><td align=\"right\" nowrap=\"\" style=\"padding-right:25px\" title=\"Exported: None\">71.702kWh</td><td align=\"right\" nowrap=\"\" style=\"padding-right:25px\">1.639kWh/kW</td><td align=\"right\" nowrap=\"\" style=\"padding-right:20px\"><center>-</center></td><td align=\"right\" nowrap=\"\" style=\"padding-right:35px\">32.163kW</td><td align=\"center\">1:00PM</td><td nowrap=\"\">Mostly Cloudy</td><td align=\"right\" style=\"padding-right:1px\"><center>-</center></td><td nowrap=\"\" style=\"font-size:0.9em\">Updated 23:45 UTC+1:00</td></tr><tr class=\"o2\"><td align=\"center\" nowrap=\"\" style=\"padding-right:15px\"><div><a href=\"intraday.jsp?id=37639&amp;sid=34434&amp;dt=20181118\">18/11/18</a></div></td><td align=\"right\" nowrap=\"\" style=\"padding-right:25px\" title=\"Exported: None\">35.584kWh</td><td align=\"right\" nowrap=\"\" style=\"padding-right:25px\">0.814kWh/kW</td><td align=\"right\" nowrap=\"\" style=\"padding-right:20px\"><center>-</center></td><td align=\"right\" nowrap=\"\" style=\"padding-right:35px\">11.681kW</td><td align=\"center\">11:15AM</td><td nowrap=\"\">Cloudy</td><td align=\"right\" style=\"padding-right:1px\"><center>-</center></td><td nowrap=\"\" style=\"font-size:0.9em\">Updated 23:45 UTC+1:00</td></tr></table>\n"
     ]
    }
   ],
   "source": [
    "print(tabla)\n",
    "#print(type(tabla))\n",
    "tabla = str(tabla)\n",
    "#print(type(tabla))"
   ]
  },
  {
   "cell_type": "code",
   "execution_count": 5,
   "metadata": {},
   "outputs": [],
   "source": [
    "datos = pd.DataFrame(columns=['Fecha', 'Energía_generada', 'Eficiencia', 'Condiciones'])"
   ]
  },
  {
   "cell_type": "code",
   "execution_count": 6,
   "metadata": {
    "id": "uw9lsEt94yym"
   },
   "outputs": [
    {
     "name": "stdout",
     "output_type": "stream",
     "text": [
      "       Fecha Energía_generada Eficiencia Condiciones\n",
      "0   17/12/18              NaN        NaN         NaN\n",
      "1   16/12/18              NaN        NaN         NaN\n",
      "2   15/12/18              NaN        NaN         NaN\n",
      "3   14/12/18              NaN        NaN         NaN\n",
      "4   13/12/18              NaN        NaN         NaN\n",
      "5   12/12/18              NaN        NaN         NaN\n",
      "6   11/12/18              NaN        NaN         NaN\n",
      "7   10/12/18              NaN        NaN         NaN\n",
      "8   09/12/18              NaN        NaN         NaN\n",
      "9   08/12/18              NaN        NaN         NaN\n",
      "10  07/12/18              NaN        NaN         NaN\n",
      "11  06/12/18              NaN        NaN         NaN\n",
      "12  05/12/18              NaN        NaN         NaN\n",
      "13  04/12/18              NaN        NaN         NaN\n",
      "14  03/12/18              NaN        NaN         NaN\n",
      "15  02/12/18              NaN        NaN         NaN\n",
      "16  01/12/18              NaN        NaN         NaN\n",
      "17  30/11/18              NaN        NaN         NaN\n",
      "18  29/11/18              NaN        NaN         NaN\n",
      "19  28/11/18              NaN        NaN         NaN\n",
      "20  27/11/18              NaN        NaN         NaN\n",
      "21  26/11/18              NaN        NaN         NaN\n",
      "22  25/11/18              NaN        NaN         NaN\n",
      "23  24/11/18              NaN        NaN         NaN\n",
      "24  23/11/18              NaN        NaN         NaN\n",
      "25  22/11/18              NaN        NaN         NaN\n",
      "26  21/11/18              NaN        NaN         NaN\n",
      "27  20/11/18              NaN        NaN         NaN\n",
      "28  19/11/18              NaN        NaN         NaN\n",
      "29  18/11/18              NaN        NaN         NaN\n"
     ]
    }
   ],
   "source": [
    "# El primer paso será obtener todos los valores de FECHA\n",
    "expresion_fechas = r'\\d{2}/\\d{2}/\\d{2}'\n",
    "\n",
    "fechas_obtenidas = re.findall(expresion_fechas, tabla)\n",
    "\n",
    "#print(fechas_obtenidas)\n",
    "\n",
    "datos['Fecha'] = fechas_obtenidas\n",
    "\n",
    "print(datos)"
   ]
  },
  {
   "cell_type": "code",
   "execution_count": 7,
   "metadata": {
    "id": "GTyQt8lZ4zVd"
   },
   "outputs": [
    {
     "name": "stdout",
     "output_type": "stream",
     "text": [
      "       Fecha Energía_generada Eficiencia Condiciones\n",
      "0   17/12/18         0.000kWh        NaN         NaN\n",
      "1   16/12/18        23.290kWh        NaN         NaN\n",
      "2   15/12/18       102.201kWh        NaN         NaN\n",
      "3   14/12/18        49.354kWh        NaN         NaN\n",
      "4   13/12/18        10.052kWh        NaN         NaN\n",
      "5   12/12/18        66.718kWh        NaN         NaN\n",
      "6   11/12/18       104.514kWh        NaN         NaN\n",
      "7   10/12/18        93.795kWh        NaN         NaN\n",
      "8   09/12/18       113.725kWh        NaN         NaN\n",
      "9   08/12/18        78.448kWh        NaN         NaN\n",
      "10  07/12/18       118.060kWh        NaN         NaN\n",
      "11  06/12/18       114.691kWh        NaN         NaN\n",
      "12  05/12/18       111.368kWh        NaN         NaN\n",
      "13  04/12/18       115.125kWh        NaN         NaN\n",
      "14  03/12/18        75.057kWh        NaN         NaN\n",
      "15  02/12/18       118.966kWh        NaN         NaN\n",
      "16  01/12/18        91.670kWh        NaN         NaN\n",
      "17  30/11/18        68.678kWh        NaN         NaN\n",
      "18  29/11/18        74.923kWh        NaN         NaN\n",
      "19  28/11/18       118.962kWh        NaN         NaN\n",
      "20  27/11/18       138.964kWh        NaN         NaN\n",
      "21  26/11/18        71.042kWh        NaN         NaN\n",
      "22  25/11/18        52.910kWh        NaN         NaN\n",
      "23  24/11/18       143.884kWh        NaN         NaN\n",
      "24  23/11/18        14.313kWh        NaN         NaN\n",
      "25  22/11/18        75.768kWh        NaN         NaN\n",
      "26  21/11/18       123.206kWh        NaN         NaN\n",
      "27  20/11/18        51.082kWh        NaN         NaN\n",
      "28  19/11/18        71.702kWh        NaN         NaN\n",
      "29  18/11/18        35.584kWh        NaN         NaN\n"
     ]
    }
   ],
   "source": [
    "# El segundo paso, energía generada\n",
    "expresion_energia = r'\\d+\\.\\d+kWh<'\n",
    "\n",
    "#Añado < para que la expresion regular no coja los datos de eficiencia tambien (disponen de la misma estructura)\n",
    "#Posteriormente elimino el <\n",
    "\n",
    "energia_obtenida = re.findall(expresion_energia, tabla)\n",
    "\n",
    "datos['Energía_generada'] = energia_obtenida\n",
    "datos['Energía_generada'] = datos['Energía_generada'].str[:-1]\n",
    "\n",
    "print(datos)"
   ]
  },
  {
   "cell_type": "code",
   "execution_count": 8,
   "metadata": {
    "id": "4gTkdTBz41YR"
   },
   "outputs": [
    {
     "name": "stdout",
     "output_type": "stream",
     "text": [
      "       Fecha Energía_generada   Eficiencia Condiciones\n",
      "0   17/12/18         0.000kWh  0.000kWh/kW         NaN\n",
      "1   16/12/18        23.290kWh  0.532kWh/kW         NaN\n",
      "2   15/12/18       102.201kWh  2.337kWh/kW         NaN\n",
      "3   14/12/18        49.354kWh  1.128kWh/kW         NaN\n",
      "4   13/12/18        10.052kWh  0.230kWh/kW         NaN\n",
      "5   12/12/18        66.718kWh  1.525kWh/kW         NaN\n",
      "6   11/12/18       104.514kWh  2.389kWh/kW         NaN\n",
      "7   10/12/18        93.795kWh  2.144kWh/kW         NaN\n",
      "8   09/12/18       113.725kWh  2.600kWh/kW         NaN\n",
      "9   08/12/18        78.448kWh  1.794kWh/kW         NaN\n",
      "10  07/12/18       118.060kWh  2.699kWh/kW         NaN\n",
      "11  06/12/18       114.691kWh  2.622kWh/kW         NaN\n",
      "12  05/12/18       111.368kWh  2.546kWh/kW         NaN\n",
      "13  04/12/18       115.125kWh  2.632kWh/kW         NaN\n",
      "14  03/12/18        75.057kWh  1.716kWh/kW         NaN\n",
      "15  02/12/18       118.966kWh  2.720kWh/kW         NaN\n",
      "16  01/12/18        91.670kWh  2.096kWh/kW         NaN\n",
      "17  30/11/18        68.678kWh  1.570kWh/kW         NaN\n",
      "18  29/11/18        74.923kWh  1.713kWh/kW         NaN\n",
      "19  28/11/18       118.962kWh  2.720kWh/kW         NaN\n",
      "20  27/11/18       138.964kWh  3.177kWh/kW         NaN\n",
      "21  26/11/18        71.042kWh  1.624kWh/kW         NaN\n",
      "22  25/11/18        52.910kWh  1.210kWh/kW         NaN\n",
      "23  24/11/18       143.884kWh  3.290kWh/kW         NaN\n",
      "24  23/11/18        14.313kWh  0.327kWh/kW         NaN\n",
      "25  22/11/18        75.768kWh  1.732kWh/kW         NaN\n",
      "26  21/11/18       123.206kWh  2.817kWh/kW         NaN\n",
      "27  20/11/18        51.082kWh  1.168kWh/kW         NaN\n",
      "28  19/11/18        71.702kWh  1.639kWh/kW         NaN\n",
      "29  18/11/18        35.584kWh  0.814kWh/kW         NaN\n"
     ]
    }
   ],
   "source": [
    "# Extraemos la eficiencia\n",
    "expresion_eficiencia = r'\\d+\\.\\d+kWh/kW'\n",
    "\n",
    "eficiencia_obtenida = re.findall(expresion_eficiencia, tabla)\n",
    "\n",
    "datos['Eficiencia'] = eficiencia_obtenida\n",
    "\n",
    "print(datos)"
   ]
  },
  {
   "cell_type": "code",
   "execution_count": 9,
   "metadata": {
    "id": "Fx9eWw5G428T"
   },
   "outputs": [
    {
     "name": "stdout",
     "output_type": "stream",
     "text": [
      "       Fecha Energía_generada   Eficiencia    Condiciones\n",
      "0   17/12/18         0.000kWh  0.000kWh/kW       Not Sure\n",
      "1   16/12/18        23.290kWh  0.532kWh/kW        Showers\n",
      "2   15/12/18       102.201kWh  2.337kWh/kW  Partly Cloudy\n",
      "3   14/12/18        49.354kWh  1.128kWh/kW         Cloudy\n",
      "4   13/12/18        10.052kWh  0.230kWh/kW        Showers\n",
      "5   12/12/18        66.718kWh  1.525kWh/kW  Mostly Cloudy\n",
      "6   11/12/18       104.514kWh  2.389kWh/kW  Partly Cloudy\n",
      "7   10/12/18        93.795kWh  2.144kWh/kW  Partly Cloudy\n",
      "8   09/12/18       113.725kWh  2.600kWh/kW           Fine\n",
      "9   08/12/18        78.448kWh  1.794kWh/kW  Partly Cloudy\n",
      "10  07/12/18       118.060kWh  2.699kWh/kW           Fine\n",
      "11  06/12/18       114.691kWh  2.622kWh/kW           Fine\n",
      "12  05/12/18       111.368kWh  2.546kWh/kW  Partly Cloudy\n",
      "13  04/12/18       115.125kWh  2.632kWh/kW           Fine\n",
      "14  03/12/18        75.057kWh  1.716kWh/kW  Mostly Cloudy\n",
      "15  02/12/18       118.966kWh  2.720kWh/kW           Fine\n",
      "16  01/12/18        91.670kWh  2.096kWh/kW  Partly Cloudy\n",
      "17  30/11/18        68.678kWh  1.570kWh/kW  Mostly Cloudy\n",
      "18  29/11/18        74.923kWh  1.713kWh/kW  Mostly Cloudy\n",
      "19  28/11/18       118.962kWh  2.720kWh/kW  Partly Cloudy\n",
      "20  27/11/18       138.964kWh  3.177kWh/kW           Fine\n",
      "21  26/11/18        71.042kWh  1.624kWh/kW  Mostly Cloudy\n",
      "22  25/11/18        52.910kWh  1.210kWh/kW         Cloudy\n",
      "23  24/11/18       143.884kWh  3.290kWh/kW           Fine\n",
      "24  23/11/18        14.313kWh  0.327kWh/kW        Showers\n",
      "25  22/11/18        75.768kWh  1.732kWh/kW  Mostly Cloudy\n",
      "26  21/11/18       123.206kWh  2.817kWh/kW           Fine\n",
      "27  20/11/18        51.082kWh  1.168kWh/kW         Cloudy\n",
      "28  19/11/18        71.702kWh  1.639kWh/kW  Mostly Cloudy\n",
      "29  18/11/18        35.584kWh  0.814kWh/kW         Cloudy\n"
     ]
    }
   ],
   "source": [
    "# Extraemos las condiciones\n",
    "#expresion_condiciones = r'(?m)^(Partly|Mostly)?\\s?(Cloudy|Showers|Fine|Not Sure|Cloudy)$'\n",
    "expresion_condiciones = r'(?:Not Sure|Showers|Partly Cloudy|Cloudy|Mostly Cloudy|Fine)'\n",
    "\n",
    "condiciones_obtenidas = re.findall(expresion_condiciones, tabla)\n",
    "\n",
    "datos['Condiciones'] = condiciones_obtenidas\n",
    "\n",
    "print(datos) "
   ]
  },
  {
   "cell_type": "code",
   "execution_count": 10,
   "metadata": {
    "id": "rlvu_x_T44mH"
   },
   "outputs": [],
   "source": [
    "datos.to_csv('Parte2_ejercicio1.csv', index=False)"
   ]
  },
  {
   "cell_type": "code",
   "execution_count": null,
   "metadata": {
    "id": "nO0kIdlD48CU"
   },
   "outputs": [],
   "source": []
  }
 ],
 "metadata": {
  "colab": {
   "provenance": []
  },
  "kernelspec": {
   "display_name": "Python 3 (ipykernel)",
   "language": "python",
   "name": "python3"
  },
  "language_info": {
   "codemirror_mode": {
    "name": "ipython",
    "version": 3
   },
   "file_extension": ".py",
   "mimetype": "text/x-python",
   "name": "python",
   "nbconvert_exporter": "python",
   "pygments_lexer": "ipython3",
   "version": "3.11.5"
  }
 },
 "nbformat": 4,
 "nbformat_minor": 1
}
