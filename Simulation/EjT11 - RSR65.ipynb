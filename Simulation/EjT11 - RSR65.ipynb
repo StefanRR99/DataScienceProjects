{
 "cells": [
  {
   "cell_type": "markdown",
   "metadata": {},
   "source": [
    "# Ejercicios Tema 11"
   ]
  },
  {
   "cell_type": "markdown",
   "metadata": {},
   "source": [
    "---\n",
    "\n",
    "`Ejercicio 3 Para casa`\n",
    "\n",
    "> *Resuleve el problema de la mochila (Knapsack problem) mediante PSO. Este problema, modela una situación análoga al llenar una mochila, incapaz de soportar más de un peso determinado, con todo o parte de un conjunto de objetos, cada uno con un peso y valor específicos. Los objetos colocados en la mochila deben maximizar el valor total sin exceder el peso máximo*.\n",
    "\n",
    "---"
   ]
  },
  {
   "cell_type": "code",
   "execution_count": 1,
   "metadata": {},
   "outputs": [
    {
     "name": "stdout",
     "output_type": "stream",
     "text": [
      "Pesos aleatorios:     [82 15 49 61 63]\n",
      "Valores aleatorios:   [ 51  25  78  61 100]\n",
      "---------------------------\n",
      "Stopping search: Swarm best position change less than 1e-08\n",
      "Mejor combinación de objetos  : [0 1 1 0 1]\n",
      "Valor total en la mochila     : 203\n",
      "---------------------------\n",
      "Capacidad en la mochila       : 130\n",
      "Peso total en la mochila      : 127\n"
     ]
    }
   ],
   "source": [
    "import numpy as np\n",
    "from pyswarm import pso\n",
    "\n",
    "def calculo_valor(x, pesos, valores, capacidad):\n",
    "    total_pesos = np.sum(x * pesos)\n",
    "    total_valores = np.sum(x * valores)\n",
    "    if total_pesos > capacidad:\n",
    "        return 0\n",
    "    else:\n",
    "        return total_valores\n",
    "\n",
    "def funcion_pso(pesos, valores, capacidad):\n",
    "    num_obj = len(pesos)\n",
    "    \n",
    "    def fun_resultado(x):\n",
    "        return -1 * calculo_valor(x, pesos, valores, capacidad)\n",
    "    \n",
    "    # Limites\n",
    "    l_inf = [0] * num_obj\n",
    "    l_sup = [1] * num_obj\n",
    "    \n",
    "    # Restriccion de peso\n",
    "    def restriccion(x):\n",
    "        return capacidad - np.sum(x * pesos)\n",
    "    \n",
    "    xopt, fopt = pso(fun_resultado, l_inf, l_sup, f_ieqcons=restriccion, maxiter=100)\n",
    "    \n",
    "    # Redondear a 0, 1 para saber con certeza los objetos escogidos\n",
    "    xopt_redond = np.round(xopt).astype(int)\n",
    "    \n",
    "    return xopt_redond, -1 * fopt\n",
    "\n",
    "\n",
    "# Funcion para generar objetos y su peso\n",
    "def generar_obj(n, peso_min=1, peso_max=90, valor_min=1, valor_max=100):\n",
    "    pesos = np.random.randint(peso_min, peso_max + 1, size=n)\n",
    "    valores = np.random.randint(valor_min, valor_max + 1, size=n)\n",
    "    return pesos, valores\n",
    "\n",
    "n = 5  \n",
    "pesos, valores = generar_obj(n)\n",
    "capacidad = 130\n",
    "\n",
    "print(\"Pesos aleatorios:    \", pesos)\n",
    "print(\"Valores aleatorios:  \", valores)\n",
    "print('---------------------------')\n",
    "\n",
    "objetos, valor_max = funcion_pso(pesos, valores, capacidad)\n",
    "\n",
    "print(\"Mejor combinación de objetos  :\", objetos)\n",
    "print(\"Valor total en la mochila     :\", np.sum(objetos * valores)) # Calculo del valor total\n",
    "print('---------------------------')\n",
    "print(\"Capacidad en la mochila       :\", capacidad)\n",
    "print(\"Peso total en la mochila      :\", np.sum(objetos * pesos)) # Calculo del peso total"
   ]
  }
 ],
 "metadata": {
  "kernelspec": {
   "display_name": "base",
   "language": "python",
   "name": "python3"
  },
  "language_info": {
   "codemirror_mode": {
    "name": "ipython",
    "version": 3
   },
   "file_extension": ".py",
   "mimetype": "text/x-python",
   "name": "python",
   "nbconvert_exporter": "python",
   "pygments_lexer": "ipython3",
   "version": "3.11.5"
  }
 },
 "nbformat": 4,
 "nbformat_minor": 2
}
